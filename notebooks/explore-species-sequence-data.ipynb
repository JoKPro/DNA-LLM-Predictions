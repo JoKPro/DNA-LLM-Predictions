{
 "cells": [
  {
   "cell_type": "markdown",
   "id": "27c671c6-9adf-468b-888f-454ad9bcf28d",
   "metadata": {},
   "source": [
    "# Explore Sequence Data"
   ]
  },
  {
   "cell_type": "code",
   "execution_count": 1,
   "id": "58d86b81-3c1c-435e-a6d7-532a284b598f",
   "metadata": {
    "tags": []
   },
   "outputs": [],
   "source": [
    "import pickle\n",
    "import os\n",
    "import pandas as pd"
   ]
  },
  {
   "cell_type": "code",
   "execution_count": 20,
   "id": "cb52af26-aaa9-4912-b987-1b003798276a",
   "metadata": {
    "tags": []
   },
   "outputs": [],
   "source": [
    "sequence_dir = \"/s/project/multispecies/fungi_code/BERT-ADN/outputs/all_species_embeddings\"\n",
    "neurospora = \"/s/project/multispecies/fungi_code/BERT-ADN/outputs/all_species_embeddings/embedding_bertadn_origtest_200k_static_neurospora_crassa_Neurospora_crassa_FGSC_4200_downstream_1024_withoutstop_bertstyle\"\n"
   ]
  },
  {
   "cell_type": "code",
   "execution_count": 15,
   "id": "8fd0acdb-2b13-4270-bce3-b2fdb8afec11",
   "metadata": {
    "tags": []
   },
   "outputs": [],
   "source": [
    "def get_species_table(seqence_dir, species_dir): \n",
    "    seq_path = os.path.join(sequence_dir, species_dir, \"embeddings_downstream.csv\")\n",
    "    with open(seq_path, \"rb\") as f: \n",
    "        seq = pickle.load(f)\n",
    "    return seq"
   ]
  },
  {
   "cell_type": "code",
   "execution_count": 21,
   "id": "d7f2bf00-09f0-4785-ade8-4c8ab994d7e6",
   "metadata": {
    "tags": []
   },
   "outputs": [],
   "source": [
    "neurospora_dt = get_species_table(sequence_dir, neurospora)"
   ]
  },
  {
   "cell_type": "code",
   "execution_count": 22,
   "id": "63651c90-a197-463d-896d-a4caee33995d",
   "metadata": {
    "tags": []
   },
   "outputs": [
    {
     "data": {
      "text/html": [
       "<div>\n",
       "<style scoped>\n",
       "    .dataframe tbody tr th:only-of-type {\n",
       "        vertical-align: middle;\n",
       "    }\n",
       "\n",
       "    .dataframe tbody tr th {\n",
       "        vertical-align: top;\n",
       "    }\n",
       "\n",
       "    .dataframe thead th {\n",
       "        text-align: right;\n",
       "    }\n",
       "</style>\n",
       "<table border=\"1\" class=\"dataframe\">\n",
       "  <thead>\n",
       "    <tr style=\"text-align: right;\">\n",
       "      <th></th>\n",
       "      <th>gene_id</th>\n",
       "      <th>species</th>\n",
       "      <th>three_prime_seq</th>\n",
       "      <th>average_embedding_downstream</th>\n",
       "    </tr>\n",
       "  </thead>\n",
       "  <tbody>\n",
       "    <tr>\n",
       "      <th>0</th>\n",
       "      <td>gene_1000</td>\n",
       "      <td>Neurospora_crassa_FGSC_4200</td>\n",
       "      <td>TAATGAAGTGGATGGAAATTGGAAAGCGGATAGTTGGTTGTAGGAT...</td>\n",
       "      <td>[0.018391581, 0.16278292, -0.04372457, 0.01993...</td>\n",
       "    </tr>\n",
       "    <tr>\n",
       "      <th>1</th>\n",
       "      <td>gene_1001</td>\n",
       "      <td>Neurospora_crassa_FGSC_4200</td>\n",
       "      <td>TAGAAAGGGCCTGCTGCTACTGGTGGAGAAGCGGATGAAGAGTATT...</td>\n",
       "      <td>[0.017700035, -0.029791674, -0.108092956, 0.01...</td>\n",
       "    </tr>\n",
       "    <tr>\n",
       "      <th>2</th>\n",
       "      <td>gene_1002</td>\n",
       "      <td>Neurospora_crassa_FGSC_4200</td>\n",
       "      <td>TGAACTGCACCCTTCTCTGTTTCAAGCCTCCTAAAAACCAATCGTC...</td>\n",
       "      <td>[0.045262296, 0.14653519, -0.08605815, 0.02811...</td>\n",
       "    </tr>\n",
       "    <tr>\n",
       "      <th>3</th>\n",
       "      <td>gene_1005</td>\n",
       "      <td>Neurospora_crassa_FGSC_4200</td>\n",
       "      <td>TAAGCTTGTTTGGGTGCAGCTGCGTTCACGGGCTAGCATTTGGGTT...</td>\n",
       "      <td>[0.0021001121, 0.14662446, -0.12971112, 0.1766...</td>\n",
       "    </tr>\n",
       "    <tr>\n",
       "      <th>4</th>\n",
       "      <td>gene_1007</td>\n",
       "      <td>Neurospora_crassa_FGSC_4200</td>\n",
       "      <td>TAGATCAGCCCCGCTGCCCCACAGTCGACGGACCCACGGGAACGCA...</td>\n",
       "      <td>[-0.012544523, 0.25719634, -0.070802376, 0.021...</td>\n",
       "    </tr>\n",
       "    <tr>\n",
       "      <th>...</th>\n",
       "      <td>...</td>\n",
       "      <td>...</td>\n",
       "      <td>...</td>\n",
       "      <td>...</td>\n",
       "    </tr>\n",
       "    <tr>\n",
       "      <th>10787</th>\n",
       "      <td>gene_11320</td>\n",
       "      <td>Neurospora_crassa_FGSC_4200</td>\n",
       "      <td>TAGTTTTGACAGGCTTGGGCCCACGGATTCTGATAGCGCCCCAGTG...</td>\n",
       "      <td>[0.023528136, 0.021768108, -0.07337699, 0.0365...</td>\n",
       "    </tr>\n",
       "    <tr>\n",
       "      <th>10788</th>\n",
       "      <td>gene_11323</td>\n",
       "      <td>Neurospora_crassa_FGSC_4200</td>\n",
       "      <td>TGATATGAGATCCTGTCATGCTATGTGCATCCCTCTACGGCGTTCA...</td>\n",
       "      <td>[0.040588543, 0.57079786, -0.029478023, 0.0332...</td>\n",
       "    </tr>\n",
       "    <tr>\n",
       "      <th>10789</th>\n",
       "      <td>gene_11324</td>\n",
       "      <td>Neurospora_crassa_FGSC_4200</td>\n",
       "      <td>taatataatttatataaatagtttttaaaatatttCCAATTTGTAA...</td>\n",
       "      <td>[-0.032677446, 0.40696913, -0.0009007891, -0.0...</td>\n",
       "    </tr>\n",
       "    <tr>\n",
       "      <th>10790</th>\n",
       "      <td>gene_11325</td>\n",
       "      <td>Neurospora_crassa_FGSC_4200</td>\n",
       "      <td>TAGTATATTAGTAGTACTAGCTTTTTATAATATTTAATACCCTATT...</td>\n",
       "      <td>[-0.04372922, -0.12756737, 0.13753375, 0.04011...</td>\n",
       "    </tr>\n",
       "    <tr>\n",
       "      <th>10791</th>\n",
       "      <td>gene_11326</td>\n",
       "      <td>Neurospora_crassa_FGSC_4200</td>\n",
       "      <td>CTTATACAATTATATAATAATAAGTAATACCTAATAACTTTCTTTT...</td>\n",
       "      <td>[-0.045374166, 0.64050215, 0.123595275, -0.159...</td>\n",
       "    </tr>\n",
       "  </tbody>\n",
       "</table>\n",
       "<p>10792 rows × 4 columns</p>\n",
       "</div>"
      ],
      "text/plain": [
       "          gene_id                      species  \\\n",
       "0       gene_1000  Neurospora_crassa_FGSC_4200   \n",
       "1       gene_1001  Neurospora_crassa_FGSC_4200   \n",
       "2       gene_1002  Neurospora_crassa_FGSC_4200   \n",
       "3       gene_1005  Neurospora_crassa_FGSC_4200   \n",
       "4       gene_1007  Neurospora_crassa_FGSC_4200   \n",
       "...           ...                          ...   \n",
       "10787  gene_11320  Neurospora_crassa_FGSC_4200   \n",
       "10788  gene_11323  Neurospora_crassa_FGSC_4200   \n",
       "10789  gene_11324  Neurospora_crassa_FGSC_4200   \n",
       "10790  gene_11325  Neurospora_crassa_FGSC_4200   \n",
       "10791  gene_11326  Neurospora_crassa_FGSC_4200   \n",
       "\n",
       "                                         three_prime_seq  \\\n",
       "0      TAATGAAGTGGATGGAAATTGGAAAGCGGATAGTTGGTTGTAGGAT...   \n",
       "1      TAGAAAGGGCCTGCTGCTACTGGTGGAGAAGCGGATGAAGAGTATT...   \n",
       "2      TGAACTGCACCCTTCTCTGTTTCAAGCCTCCTAAAAACCAATCGTC...   \n",
       "3      TAAGCTTGTTTGGGTGCAGCTGCGTTCACGGGCTAGCATTTGGGTT...   \n",
       "4      TAGATCAGCCCCGCTGCCCCACAGTCGACGGACCCACGGGAACGCA...   \n",
       "...                                                  ...   \n",
       "10787  TAGTTTTGACAGGCTTGGGCCCACGGATTCTGATAGCGCCCCAGTG...   \n",
       "10788  TGATATGAGATCCTGTCATGCTATGTGCATCCCTCTACGGCGTTCA...   \n",
       "10789  taatataatttatataaatagtttttaaaatatttCCAATTTGTAA...   \n",
       "10790  TAGTATATTAGTAGTACTAGCTTTTTATAATATTTAATACCCTATT...   \n",
       "10791  CTTATACAATTATATAATAATAAGTAATACCTAATAACTTTCTTTT...   \n",
       "\n",
       "                            average_embedding_downstream  \n",
       "0      [0.018391581, 0.16278292, -0.04372457, 0.01993...  \n",
       "1      [0.017700035, -0.029791674, -0.108092956, 0.01...  \n",
       "2      [0.045262296, 0.14653519, -0.08605815, 0.02811...  \n",
       "3      [0.0021001121, 0.14662446, -0.12971112, 0.1766...  \n",
       "4      [-0.012544523, 0.25719634, -0.070802376, 0.021...  \n",
       "...                                                  ...  \n",
       "10787  [0.023528136, 0.021768108, -0.07337699, 0.0365...  \n",
       "10788  [0.040588543, 0.57079786, -0.029478023, 0.0332...  \n",
       "10789  [-0.032677446, 0.40696913, -0.0009007891, -0.0...  \n",
       "10790  [-0.04372922, -0.12756737, 0.13753375, 0.04011...  \n",
       "10791  [-0.045374166, 0.64050215, 0.123595275, -0.159...  \n",
       "\n",
       "[10792 rows x 4 columns]"
      ]
     },
     "execution_count": 22,
     "metadata": {},
     "output_type": "execute_result"
    }
   ],
   "source": [
    "neurospora_dt"
   ]
  },
  {
   "cell_type": "markdown",
   "id": "3cf9e98e-574b-4cb9-93b5-c26f61640a9e",
   "metadata": {},
   "source": [
    "# Predict Gene Membership based on regulatory sequence\n",
    "\n",
    "## Build the dataset\n",
    "For one gene class: \n",
    "- DataFrame with two columns: | UTR seq : str | belongs_to_class : bool |\n",
    "- How to tell if genes belong to the same class?\n",
    "\n",
    "\n",
    "For multiple genes: multinomial prediction? --> one-hot encode the species --> Cross Entropy prediction\n",
    "\n",
    "\n",
    "\n"
   ]
  },
  {
   "cell_type": "code",
   "execution_count": 17,
   "id": "99526b34-a801-414d-ad75-44edb7bfa3f2",
   "metadata": {
    "tags": []
   },
   "outputs": [],
   "source": [
    "# check if the gene ids match between species, i.e. if the gene ids label homologous genes. \n",
    "species2 = \"/s/project/multispecies/fungi_code/BERT-ADN/outputs/all_species_embeddings/embedding_bertadn_origtest_200k_static_debaryomyces_hansenii_cbs767_gca_000006445_Debaryomyces_hansenii_CBS_767_downstream_1024_withoutstop_bertstyle\"\n",
    "vanderwalt = \"embedding_bertadn_origtest_200k_static_vanderwaltozyma_polyspora_dsm_70294_gca_000150035_Vanderwaltozyma_polyspora_DSM_70294_downstream_1024_withoutstop_bertstyle\"\n",
    "seq_debaromyces = get_species_table(sequence_dir, species2)\n",
    "seq_vanderwalt = get_species_table(sequence_dir, vanderwalt)\n",
    "          "
   ]
  },
  {
   "cell_type": "code",
   "execution_count": 18,
   "id": "b52f82ee-2da2-4306-9d07-1a6ea3031a0e",
   "metadata": {
    "collapsed": true,
    "jupyter": {
     "outputs_hidden": true
    },
    "tags": []
   },
   "outputs": [
    {
     "data": {
      "text/html": [
       "<div>\n",
       "<style scoped>\n",
       "    .dataframe tbody tr th:only-of-type {\n",
       "        vertical-align: middle;\n",
       "    }\n",
       "\n",
       "    .dataframe tbody tr th {\n",
       "        vertical-align: top;\n",
       "    }\n",
       "\n",
       "    .dataframe thead th {\n",
       "        text-align: right;\n",
       "    }\n",
       "</style>\n",
       "<table border=\"1\" class=\"dataframe\">\n",
       "  <thead>\n",
       "    <tr style=\"text-align: right;\">\n",
       "      <th></th>\n",
       "      <th>gene_id</th>\n",
       "      <th>species</th>\n",
       "      <th>three_prime_seq</th>\n",
       "      <th>average_embedding_downstream</th>\n",
       "    </tr>\n",
       "  </thead>\n",
       "  <tbody>\n",
       "    <tr>\n",
       "      <th>0</th>\n",
       "      <td>Kpol_99p1</td>\n",
       "      <td>Vanderwaltozyma_polyspora_DSM_70294</td>\n",
       "      <td>TGAATACAAAATTTTTTCCAAGAACCGGCATAAAACTTGCCTTAGG...</td>\n",
       "      <td>[0.038844276, -0.29947397, -0.012973295, 0.100...</td>\n",
       "    </tr>\n",
       "    <tr>\n",
       "      <th>1</th>\n",
       "      <td>Kpol_137p2</td>\n",
       "      <td>Vanderwaltozyma_polyspora_DSM_70294</td>\n",
       "      <td>TAATAAATTAACATACAGAATTAATTTATTATGGAAAGCTTGCATC...</td>\n",
       "      <td>[0.07963478, -0.35941947, -0.012444771, 0.0975...</td>\n",
       "    </tr>\n",
       "    <tr>\n",
       "      <th>2</th>\n",
       "      <td>Kpol_140p1</td>\n",
       "      <td>Vanderwaltozyma_polyspora_DSM_70294</td>\n",
       "      <td>TAACTAAATCCTATTTAACTGCCAACCACTTTCCTATCTCACTCAC...</td>\n",
       "      <td>[0.041999932, 0.14226703, 0.033995446, 0.02893...</td>\n",
       "    </tr>\n",
       "    <tr>\n",
       "      <th>3</th>\n",
       "      <td>Kpol_147p3</td>\n",
       "      <td>Vanderwaltozyma_polyspora_DSM_70294</td>\n",
       "      <td>TAATTCATTTCTTATATATTTTTATTATGTAAAAGTATAACTAAGT...</td>\n",
       "      <td>[0.046842456, -0.49852812, -0.00521519, 0.0592...</td>\n",
       "    </tr>\n",
       "    <tr>\n",
       "      <th>4</th>\n",
       "      <td>Kpol_150p1</td>\n",
       "      <td>Vanderwaltozyma_polyspora_DSM_70294</td>\n",
       "      <td>TGAAAGAAATCATCAATTATCAACGGTCCCAATTTTTTAGAAGAAT...</td>\n",
       "      <td>[0.122609735, -0.30000344, -0.019855952, 0.062...</td>\n",
       "    </tr>\n",
       "    <tr>\n",
       "      <th>...</th>\n",
       "      <td>...</td>\n",
       "      <td>...</td>\n",
       "      <td>...</td>\n",
       "      <td>...</td>\n",
       "    </tr>\n",
       "    <tr>\n",
       "      <th>5232</th>\n",
       "      <td>Kpol_513p1</td>\n",
       "      <td>Vanderwaltozyma_polyspora_DSM_70294</td>\n",
       "      <td>TAATTGCATCTCATACAGTCACTACACTGAATCACGCACCCAGTCA...</td>\n",
       "      <td>[0.010699118, 0.12043924, 0.025538737, 0.03754...</td>\n",
       "    </tr>\n",
       "    <tr>\n",
       "      <th>5233</th>\n",
       "      <td>Kpol_520p1</td>\n",
       "      <td>Vanderwaltozyma_polyspora_DSM_70294</td>\n",
       "      <td>TGATAAAAATTTCAAGCATCCAAATATATCATCTACTTTGCATATT...</td>\n",
       "      <td>[0.014822076, -0.06515783, -0.019227203, 0.108...</td>\n",
       "    </tr>\n",
       "    <tr>\n",
       "      <th>5234</th>\n",
       "      <td>Kpol_543p80</td>\n",
       "      <td>Vanderwaltozyma_polyspora_DSM_70294</td>\n",
       "      <td>ATGAATTAGGACACAATTGTGATTAGTCGGAACTAGCATGTGATAA...</td>\n",
       "      <td>[0.0147228595, -0.5458607, -0.0020845572, 0.05...</td>\n",
       "    </tr>\n",
       "    <tr>\n",
       "      <th>5235</th>\n",
       "      <td>Kpol_544p2</td>\n",
       "      <td>Vanderwaltozyma_polyspora_DSM_70294</td>\n",
       "      <td>TAGATACTTAAAAGACAGTTTTTCCAGGGCATAATCTTTCCTCTTG...</td>\n",
       "      <td>[0.06229337, -0.216658, -0.07140203, 0.1414328...</td>\n",
       "    </tr>\n",
       "    <tr>\n",
       "      <th>5236</th>\n",
       "      <td>Kpol_76p1</td>\n",
       "      <td>Vanderwaltozyma_polyspora_DSM_70294</td>\n",
       "      <td>TAAATAAAAGAACAATTTAAAAGAAGATATTTAGGATTGCCTATAA...</td>\n",
       "      <td>[0.051658403, -0.52394724, 0.02033409, 0.07387...</td>\n",
       "    </tr>\n",
       "  </tbody>\n",
       "</table>\n",
       "<p>5237 rows × 4 columns</p>\n",
       "</div>"
      ],
      "text/plain": [
       "          gene_id                              species  \\\n",
       "0       Kpol_99p1  Vanderwaltozyma_polyspora_DSM_70294   \n",
       "1      Kpol_137p2  Vanderwaltozyma_polyspora_DSM_70294   \n",
       "2      Kpol_140p1  Vanderwaltozyma_polyspora_DSM_70294   \n",
       "3      Kpol_147p3  Vanderwaltozyma_polyspora_DSM_70294   \n",
       "4      Kpol_150p1  Vanderwaltozyma_polyspora_DSM_70294   \n",
       "...           ...                                  ...   \n",
       "5232   Kpol_513p1  Vanderwaltozyma_polyspora_DSM_70294   \n",
       "5233   Kpol_520p1  Vanderwaltozyma_polyspora_DSM_70294   \n",
       "5234  Kpol_543p80  Vanderwaltozyma_polyspora_DSM_70294   \n",
       "5235   Kpol_544p2  Vanderwaltozyma_polyspora_DSM_70294   \n",
       "5236    Kpol_76p1  Vanderwaltozyma_polyspora_DSM_70294   \n",
       "\n",
       "                                        three_prime_seq  \\\n",
       "0     TGAATACAAAATTTTTTCCAAGAACCGGCATAAAACTTGCCTTAGG...   \n",
       "1     TAATAAATTAACATACAGAATTAATTTATTATGGAAAGCTTGCATC...   \n",
       "2     TAACTAAATCCTATTTAACTGCCAACCACTTTCCTATCTCACTCAC...   \n",
       "3     TAATTCATTTCTTATATATTTTTATTATGTAAAAGTATAACTAAGT...   \n",
       "4     TGAAAGAAATCATCAATTATCAACGGTCCCAATTTTTTAGAAGAAT...   \n",
       "...                                                 ...   \n",
       "5232  TAATTGCATCTCATACAGTCACTACACTGAATCACGCACCCAGTCA...   \n",
       "5233  TGATAAAAATTTCAAGCATCCAAATATATCATCTACTTTGCATATT...   \n",
       "5234  ATGAATTAGGACACAATTGTGATTAGTCGGAACTAGCATGTGATAA...   \n",
       "5235  TAGATACTTAAAAGACAGTTTTTCCAGGGCATAATCTTTCCTCTTG...   \n",
       "5236  TAAATAAAAGAACAATTTAAAAGAAGATATTTAGGATTGCCTATAA...   \n",
       "\n",
       "                           average_embedding_downstream  \n",
       "0     [0.038844276, -0.29947397, -0.012973295, 0.100...  \n",
       "1     [0.07963478, -0.35941947, -0.012444771, 0.0975...  \n",
       "2     [0.041999932, 0.14226703, 0.033995446, 0.02893...  \n",
       "3     [0.046842456, -0.49852812, -0.00521519, 0.0592...  \n",
       "4     [0.122609735, -0.30000344, -0.019855952, 0.062...  \n",
       "...                                                 ...  \n",
       "5232  [0.010699118, 0.12043924, 0.025538737, 0.03754...  \n",
       "5233  [0.014822076, -0.06515783, -0.019227203, 0.108...  \n",
       "5234  [0.0147228595, -0.5458607, -0.0020845572, 0.05...  \n",
       "5235  [0.06229337, -0.216658, -0.07140203, 0.1414328...  \n",
       "5236  [0.051658403, -0.52394724, 0.02033409, 0.07387...  \n",
       "\n",
       "[5237 rows x 4 columns]"
      ]
     },
     "execution_count": 18,
     "metadata": {},
     "output_type": "execute_result"
    }
   ],
   "source": [
    "seq_vanderwalt"
   ]
  },
  {
   "cell_type": "markdown",
   "id": "d5b860e3-eba3-4c52-9aca-f97c74558003",
   "metadata": {},
   "source": [
    "# Look at UMAP projections of all genes and all species"
   ]
  },
  {
   "cell_type": "code",
   "execution_count": 34,
   "id": "288dbfc7-105e-4042-89ac-522add217fb8",
   "metadata": {
    "tags": []
   },
   "outputs": [],
   "source": [
    "# Get all species tables\n",
    "\n",
    "import glob\n",
    "pattern = \"embeddings_downstream.csv\"\n",
    "\n",
    "files = glob.glob(os.path.join(sequence_dir, \"*\", pattern), recursive=True)\n",
    "\n",
    "seq_dts = []\n",
    "for file in files: \n",
    "    with open(file, \"rb\") as f: \n",
    "        seq_dt = pickle.load(f)\n",
    "    seq_dts.append(seq_dt)\n",
    "\n",
    "all_seq_dt = pd.concat(seq_dts)\n",
    "    "
   ]
  },
  {
   "cell_type": "code",
   "execution_count": 44,
   "id": "33fb5fb8-b864-4e21-94f4-de3b0840b6b9",
   "metadata": {
    "tags": []
   },
   "outputs": [
    {
     "data": {
      "text/plain": [
       "Neurospora_crassa_FGSC_4200                   10792\n",
       "Neurospora_crassa_FGSC_4830                   10567\n",
       "Neurospora_hispaniola_FGSC_10403              10445\n",
       "Neurospora_discreta_FGSC_8579                  9945\n",
       "Neurospora_crassa_OR74_FGSC_9013               9758\n",
       "Saccharomyces_cerevisiae_BY4741                6597\n",
       "Yarrowia_lipolytica_DSM_3286                   6403\n",
       "Debaryomyces_hansenii_CBS_767                  6272\n",
       "Saccharomyces_paradoxus_CBS_432                5531\n",
       "Saccharomyces_eubayanus_CBS_12357              5375\n",
       "Vanderwaltozyma_polyspora_DSM_70294            5237\n",
       "Schizosaccharomyces_pombe_DSM_70576            5144\n",
       "Kluyveromyces_lactis_var._lactis_DSM_70799     5076\n",
       "Name: species, dtype: int64"
      ]
     },
     "execution_count": 44,
     "metadata": {},
     "output_type": "execute_result"
    }
   ],
   "source": [
    "all_seq_dt[\"species\"].value_counts()"
   ]
  },
  {
   "cell_type": "code",
   "execution_count": 28,
   "id": "f9751923-5fff-402f-b46f-ae19ad4169e4",
   "metadata": {
    "tags": []
   },
   "outputs": [
    {
     "data": {
      "text/plain": [
       "'/s/project/multispecies/fungi_code/BERT-ADN/outputs/all_species_embeddings'"
      ]
     },
     "execution_count": 28,
     "metadata": {},
     "output_type": "execute_result"
    }
   ],
   "source": [
    "sequence_dir"
   ]
  }
 ],
 "metadata": {
  "kernelspec": {
   "display_name": "Python [conda env:anaconda-pjo_dnareg]",
   "language": "python",
   "name": "conda-env-anaconda-pjo_dnareg-py"
  },
  "language_info": {
   "codemirror_mode": {
    "name": "ipython",
    "version": 3
   },
   "file_extension": ".py",
   "mimetype": "text/x-python",
   "name": "python",
   "nbconvert_exporter": "python",
   "pygments_lexer": "ipython3",
   "version": "3.11.5"
  }
 },
 "nbformat": 4,
 "nbformat_minor": 5
}
