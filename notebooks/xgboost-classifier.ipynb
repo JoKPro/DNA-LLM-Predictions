{
 "cells": [
  {
   "cell_type": "code",
   "execution_count": 54,
   "id": "1563d554-9e33-492b-b009-a8cb5e32a1e3",
   "metadata": {},
   "outputs": [],
   "source": [
    "import sys\n",
    "if \"..\" not in sys.path: \n",
    "    sys.path.append(\"..\")\n",
    "\n",
    "from src.data.Datasets import AverageSequenceDataModule\n",
    "\n",
    "import torch\n",
    "import pytorch_lightning as L\n",
    "import xgboost as xgb\n",
    "import numpy as np\n",
    "from sklearn.metrics import log_loss, accuracy_score\n",
    "from tqdm import tqdm\n",
    "import seaborn as sns"
   ]
  },
  {
   "cell_type": "code",
   "execution_count": 37,
   "id": "27fc2b20-fe8b-4af7-9c88-72a1a6c1e1bb",
   "metadata": {},
   "outputs": [],
   "source": [
    "# simulate data \n",
    "\n",
    "N_pos = 1000\n",
    "N_neg = 1000\n",
    "embedding_dim = 50\n",
    "sequence_length_range = (10, 50)\n",
    "embedding_data_pos = [torch.Tensor(np.random.normal(loc=0.25, scale=1, size=(np.random.randint(*sequence_length_range), embedding_dim))) for i in range(N_pos)]\n",
    "embedding_data_neg = [torch.Tensor(np.random.normal(loc=0, scale=1, size=(np.random.randint(*sequence_length_range), embedding_dim))) for i in range(N_neg)]\n",
    "labels_pos = torch.Tensor(np.ones((N_pos, 1)))\n",
    "labels_neg = torch.Tensor(np.zeros((N_neg, 1)))\n",
    "embedding_data = embedding_data_pos + embedding_data_neg\n",
    "labels = torch.vstack((labels_pos, labels_neg))\n",
    "\n",
    "embedding_dataset = AverageSequenceDataModule(embedding_data,labels, train_batch_size=5000, \n",
    "                                             val_batch_size = 5000)\n"
   ]
  },
  {
   "cell_type": "code",
   "execution_count": 38,
   "id": "e44d3431-0c1a-4baa-b492-cd0d69d9a4d3",
   "metadata": {},
   "outputs": [],
   "source": [
    "embedding_dataset.setup(stage=\"train\")\n",
    "train_X, train_y = next(iter(embedding_dataset.train_dataloader()))\n",
    "val_X, val_y = next(iter(embedding_dataset.val_dataloader()))\n",
    "test_X, test_y = next(iter(embedding_dataset.test_dataloader()))\n"
   ]
  },
  {
   "cell_type": "code",
   "execution_count": 39,
   "id": "b4171ea1-57ab-491d-8d41-743d7e0432f4",
   "metadata": {},
   "outputs": [],
   "source": [
    "dtrain = xgb.DMatrix(train_X, train_y)\n",
    "dtest = xgb.DMatrix(test_X, test_y)\n",
    "\n",
    "params = {\n",
    "    \"objective\": \"reg:logistic\", \n",
    "    \"tree_method\": \"gpu_hist\"\n",
    "}\n",
    "n = 100\n",
    "\n",
    "model = xgb.train(\n",
    "    params=params, \n",
    "    dtrain=dtrain, \n",
    "    num_boost_round=n\n",
    ")"
   ]
  },
  {
   "cell_type": "code",
   "execution_count": 40,
   "id": "5da95ef1-bf84-4fcc-b4ba-e58d116e5c45",
   "metadata": {},
   "outputs": [
    {
     "name": "stdout",
     "output_type": "stream",
     "text": [
      "train loss:  0.01673515108406644  train_acc:  1.0\n",
      "test loss:  0.01673515108406644  test_acc:  0.995\n"
     ]
    }
   ],
   "source": [
    "thresh = 0.5\n",
    "\n",
    "train_pred_scores = model.predict(dtrain)\n",
    "train_preds = [1 if pred > 0.5 else 0 for pred in train_pred_scores]\n",
    "train_loss = log_loss(train_y, train_pred_scores)\n",
    "train_acc = accuracy_score(train_y, train_preds)\n",
    "\n",
    "test_pred_scores = model.predict(dtest)\n",
    "test_preds = [1 if pred > 0.5 else 0 for pred in test_pred_scores]\n",
    "test_loss = log_loss(test_y, test_pred_scores)\n",
    "test_acc = accuracy_score(test_y, test_preds)\n",
    "\n",
    "print(\"train loss: \", test_loss, \" train_acc: \", train_acc)\n",
    "print(\"test loss: \", test_loss, \" test_acc: \", test_acc)"
   ]
  },
  {
   "cell_type": "code",
   "execution_count": 41,
   "id": "c825b27b-3e46-4735-bd8c-69ba61b6226a",
   "metadata": {},
   "outputs": [],
   "source": [
    "def simulate_data(\n",
    "    N_pos=1000, \n",
    "    N_neg=1000, \n",
    "    embedding_dim=50, \n",
    "    sequence_length_range=(10, 50), \n",
    "    pos_mean=0.1, \n",
    "    pos_var=1, \n",
    "    neg_mean=0, \n",
    "    neg_var=1, \n",
    "    train_batch_size=50000, \n",
    "    val_batch_size=50000, \n",
    "    test_batch_size=50000\n",
    "    ) -> L.LightningDataModule: \n",
    "    \n",
    "    embedding_data_pos = [\n",
    "        torch.Tensor(np.random.normal(\n",
    "            loc=pos_mean, scale=pos_var, size=(np.random.randint(*sequence_length_range), embedding_dim)\n",
    "        )) for i in range(N_pos)\n",
    "    ]\n",
    "    embedding_data_neg = [\n",
    "        torch.Tensor(np.random.normal(\n",
    "            loc=neg_mean, scale=neg_var, size=(np.random.randint(*sequence_length_range), embedding_dim)\n",
    "        )) for i in range(N_neg)]\n",
    "    \n",
    "    labels_pos = torch.Tensor(np.ones((N_pos, 1)))\n",
    "    labels_neg = torch.Tensor(np.zeros((N_neg, 1)))\n",
    "    embedding_data = embedding_data_pos + embedding_data_neg\n",
    "    labels = torch.vstack((labels_pos, labels_neg))\n",
    "    \n",
    "    embedding_dataset = AverageSequenceDataModule(\n",
    "        embedding_data,labels, \n",
    "        train_batch_size=train_batch_size, \n",
    "        val_batch_size = val_batch_size, \n",
    "        test_batch_size = test_batch_size\n",
    "    )\n",
    "\n",
    "    return embedding_dataset"
   ]
  },
  {
   "cell_type": "code",
   "execution_count": 51,
   "id": "741e535a-0999-43b5-9ed8-65b5e93fb6ef",
   "metadata": {},
   "outputs": [],
   "source": [
    "def train_cycle(dataset, params, num_boost_round=100, class_threshold=0.5):\n",
    "\n",
    "    dataset.setup(stage=\"train\")\n",
    "    train_X, train_y = next(iter(dataset.train_dataloader()))\n",
    "    val_X, val_y = next(iter(dataset.val_dataloader()))\n",
    "    test_X, test_y = next(iter(dataset.test_dataloader()))\n",
    "    \n",
    "    dtrain = xgb.DMatrix(train_X, train_y)\n",
    "    dtest = xgb.DMatrix(test_X, test_y)\n",
    "    \n",
    "    model = xgb.train(\n",
    "        params=params, \n",
    "        dtrain=dtrain, \n",
    "        num_boost_round=num_boost_round\n",
    "    )\n",
    "\n",
    "    train_pred_scores = model.predict(dtrain)\n",
    "    train_preds = [1 if pred > class_threshold else 0 for pred in train_pred_scores]\n",
    "    train_loss = log_loss(train_y, train_pred_scores)\n",
    "    train_acc = accuracy_score(train_y, train_preds)\n",
    "    \n",
    "    test_pred_scores = model.predict(dtest)\n",
    "    test_preds = [1 if pred > class_threshold else 0 for pred in test_pred_scores]\n",
    "    test_loss = log_loss(test_y, test_pred_scores)\n",
    "    test_acc = accuracy_score(test_y, test_preds)\n",
    "\n",
    "    return {\n",
    "        \"train_loss\": train_loss, \n",
    "        \"train_acc\": train_acc, \n",
    "        \"test_loss\": test_loss, \n",
    "        \"test_acc\": test_acc\n",
    "    }"
   ]
  },
  {
   "cell_type": "code",
   "execution_count": 62,
   "id": "a3be7e06-fcad-4873-aaec-ed37e941fc50",
   "metadata": {},
   "outputs": [
    {
     "name": "stderr",
     "output_type": "stream",
     "text": [
      "mean: 0.25892541179416706 - test_acc: 1.0: : 100it [00:52,  1.92it/s]           \n"
     ]
    }
   ],
   "source": [
    "results = {\n",
    "    \"train_loss\": [], \n",
    "    \"train_acc\": [], \n",
    "    \"test_loss\": [], \n",
    "    \"test_acc\": []\n",
    "}\n",
    "\n",
    "params = {\n",
    "    \"objective\": \"reg:logistic\", \n",
    "    \"tree_method\": \"gpu_hist\"\n",
    "}\n",
    "\n",
    "n_iter = 100\n",
    "means = np.logspace(0, 0.1, num = n_iter)-1\n",
    "with tqdm(total=n_iter-1) as pbar: \n",
    "    for i in range(n_iter): \n",
    "        current_mean = means[i]\n",
    "        current_data = simulate_data(pos_mean=current_mean, sequence_length_range=(50, 200))\n",
    "        current_results = train_cycle(current_data, params )\n",
    "        for key in current_results.keys():\n",
    "            results[key].append(current_results[key])\n",
    "        pbar.update(1)\n",
    "        pbar.set_description(f\"mean: {current_mean} - test_acc: {current_results['test_acc']}\")"
   ]
  },
  {
   "cell_type": "code",
   "execution_count": 57,
   "id": "b60b39af-d3d2-4ef7-837d-5dcbd96d35b4",
   "metadata": {},
   "outputs": [
    {
     "data": {
      "text/plain": [
       "<Axes: >"
      ]
     },
     "execution_count": 57,
     "metadata": {},
     "output_type": "execute_result"
    },
    {
     "data": {
      "image/png": "[encoded data removed]",
      "text/plain": [
       "<Figure size 640x480 with 1 Axes>"
      ]
     },
     "metadata": {},
     "output_type": "display_data"
    }
   ],
   "source": [
    "sns.lineplot(x = means, y=results[\"test_acc\"])\n",
    "sns.lineplot(x = means, y=results[\"train_acc\"])"
   ]
  },
  {
   "cell_type": "code",
   "execution_count": 60,
   "id": "04c97b32-4370-4173-9982-ae1c6ac10fd3",
   "metadata": {},
   "outputs": [
    {
     "data": {
      "text/plain": [
       "<Axes: >"
      ]
     },
     "execution_count": 60,
     "metadata": {},
     "output_type": "execute_result"
    },
    {
     "data": {
      "image/png": "[encoded data removed]",
      "text/plain": [
       "<Figure size 640x480 with 1 Axes>"
      ]
     },
     "metadata": {},
     "output_type": "display_data"
    }
   ],
   "source": [
    "sns.lineplot(x = means, y=results[\"test_loss\"])\n",
    "sns.lineplot(x = means, y=results[\"train_loss\"])"
   ]
  },
  {
   "cell_type": "code",
   "execution_count": 59,
   "id": "8e9ec39e-142b-48c5-95a0-2f6685dedb0d",
   "metadata": {},
   "outputs": [
    {
     "ename": "KeyError",
     "evalue": "'val_acc'",
     "output_type": "error",
     "traceback": [
      "\u001b[0;31m---------------------------------------------------------------------------\u001b[0m",
      "\u001b[0;31mKeyError\u001b[0m                                  Traceback (most recent call last)",
      "Cell \u001b[0;32mIn[59], line 1\u001b[0m\n\u001b[0;32m----> 1\u001b[0m results[\u001b[38;5;124m\"\u001b[39m\u001b[38;5;124mval_acc\u001b[39m\u001b[38;5;124m\"\u001b[39m]\n",
      "\u001b[0;31mKeyError\u001b[0m: 'val_acc'"
     ]
    }
   ],
   "source": [
    "results[\"val_acc\"]"
   ]
  },
  {
   "cell_type": "code",
   "execution_count": 106,
   "id": "cdb4da26-a5a7-4979-aa14-69d038d2be70",
   "metadata": {},
   "outputs": [
    {
     "data": {
      "text/plain": [
       "array([0.        , 0.02353102, 0.04761575, 0.07226722, 0.09749877,\n",
       "       0.12332403, 0.149757  , 0.17681195, 0.20450354, 0.23284674,\n",
       "       0.26185688, 0.29154967, 0.32194115, 0.35304777, 0.38488637,\n",
       "       0.41747416, 0.45082878, 0.48496826, 0.51991108, 0.55567614,\n",
       "       0.59228279, 0.62975083, 0.66810054, 0.70735265, 0.7475284 ,\n",
       "       0.78864953, 0.83073828, 0.87381742, 0.91791026, 0.96304065,\n",
       "       1.009233  , 1.05651231, 1.10490414, 1.15443469, 1.20513074,\n",
       "       1.25701972, 1.3101297 , 1.36448941, 1.42012826, 1.47707636,\n",
       "       1.53536449, 1.59502421, 1.65608778, 1.71858824, 1.7825594 ,\n",
       "       1.84803587, 1.91505306, 1.98364724, 2.05385551, 2.12571585,\n",
       "       2.19926714, 2.27454916, 2.35160265, 2.43046929, 2.51119173,\n",
       "       2.59381366, 2.67837977, 2.76493581, 2.85352859, 2.94420606,\n",
       "       3.03701726, 3.1320124 , 3.22924287, 3.32876128, 3.43062146,\n",
       "       3.53487851, 3.64158883, 3.75081016, 3.86260158, 3.97702356,\n",
       "       4.09413801, 4.21400829, 4.33669923, 4.46227722, 4.59081018,\n",
       "       4.72236766, 4.85702082, 4.9948425 , 5.13590727, 5.28029144,\n",
       "       5.42807312, 5.57933225, 5.73415066, 5.8926121 , 6.05480231,\n",
       "       6.22080902, 6.39072203, 6.56463328, 6.74263683, 6.92482898,\n",
       "       7.11130831, 7.30217568, 7.49753436, 7.69749003, 7.90215085,\n",
       "       8.11162756, 8.32603347, 8.54548457, 8.77009957, 9.        ])"
      ]
     },
     "execution_count": 106,
     "metadata": {},
     "output_type": "execute_result"
    }
   ],
   "source": [
    "np.logspace(0, 1, num = 100)-1"
   ]
  }
 ],
 "metadata": {
  "kernelspec": {
   "display_name": "Python [conda env:anaconda-pjo_dnareg]",
   "language": "python",
   "name": "conda-env-anaconda-pjo_dnareg-py"
  },
  "language_info": {
   "codemirror_mode": {
    "name": "ipython",
    "version": 3
   },
   "file_extension": ".py",
   "mimetype": "text/x-python",
   "name": "python",
   "nbconvert_exporter": "python",
   "pygments_lexer": "ipython3",
   "version": "3.11.5"
  }
 },
 "nbformat": 4,
 "nbformat_minor": 5
}
