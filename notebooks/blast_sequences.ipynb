{
 "cells": [
  {
   "cell_type": "code",
   "execution_count": 1,
   "id": "12baa6b6-f5e3-402f-8fe4-5d9846c1747c",
   "metadata": {},
   "outputs": [],
   "source": [
    "from Bio.Blast import NCBIWWW\n",
    "from Bio import SeqIO"
   ]
  },
  {
   "cell_type": "code",
   "execution_count": 2,
   "id": "406d6329-fb66-40b3-aca2-613a9db172bb",
   "metadata": {},
   "outputs": [],
   "source": [
    "with open(\"example_fasta/blast_exmple.fasta\", \"r\") as file: \n",
    "    fasta_data = file.read()"
   ]
  },
  {
   "cell_type": "code",
   "execution_count": 5,
   "id": "f8e47c66-7f1b-494c-9d42-2321c000c380",
   "metadata": {},
   "outputs": [],
   "source": [
    "result_handle = NCBIWWW.qblast(\"blastn\", \"nt\", fasta_data)"
   ]
  },
  {
   "cell_type": "code",
   "execution_count": 15,
   "id": "a89cf90e-0a09-4196-bc9f-c6bd3baf7694",
   "metadata": {},
   "outputs": [],
   "source": [
    "sequences = list(SeqIO.parse(open(\"example_fasta/blast_exmple.fasta\"), \"fasta\"))\n"
   ]
  },
  {
   "cell_type": "code",
   "execution_count": 16,
   "id": "152a9c22-061c-4581-91e4-96d29a03cf7e",
   "metadata": {},
   "outputs": [],
   "source": [
    "with open(\"example_fasta/blast_results.xml\", \"w\") as save_file: \n",
    "    blast_results = result_handle.read()\n",
    "    save_file.write(blast_results)"
   ]
  },
  {
   "cell_type": "code",
   "execution_count": null,
   "id": "8673b1e0-6752-4afd-a03a-6cebff000638",
   "metadata": {},
   "outputs": [],
   "source": [
    "seq_record = next(SeqIo.parse)"
   ]
  }
 ],
 "metadata": {
  "kernelspec": {
   "display_name": "dnareg",
   "language": "python",
   "name": "dnareg"
  },
  "language_info": {
   "codemirror_mode": {
    "name": "ipython",
    "version": 3
   },
   "file_extension": ".py",
   "mimetype": "text/x-python",
   "name": "python",
   "nbconvert_exporter": "python",
   "pygments_lexer": "ipython3",
   "version": "3.11.5"
  }
 },
 "nbformat": 4,
 "nbformat_minor": 5
}
